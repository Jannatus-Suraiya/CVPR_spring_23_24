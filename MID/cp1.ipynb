{
 "cells": [
  {
   "cell_type": "markdown",
   "id": "cc1773df",
   "metadata": {},
   "source": [
    "## 1.List Operations:\n",
    "Here the result of the reduce function is a single value. Consider if you wanted to sum the values of a list. The sum is implemented by a lambda which is used for any expressions."
   ]
  },
  {
   "cell_type": "code",
   "execution_count": 13,
   "id": "27482b61",
   "metadata": {},
   "outputs": [
    {
     "name": "stdout",
     "output_type": "stream",
     "text": [
      "385\n"
     ]
    }
   ],
   "source": [
    "from functools import reduce\n",
    "l = [1,2,3,4,5,6,7,8,9,10]\n",
    "square_l = [a**2 for a in l]\n",
    "result = reduce(lambda a,b: a+b,square_l)\n",
    "print(result)"
   ]
  },
  {
   "cell_type": "markdown",
   "id": "6d373155",
   "metadata": {},
   "source": [
    "## 2.Tuple Operations:"
   ]
  },
  {
   "cell_type": "code",
   "execution_count": 12,
   "id": "416875e3",
   "metadata": {},
   "outputs": [
    {
     "name": "stdout",
     "output_type": "stream",
     "text": [
      "3840\n"
     ]
    }
   ],
   "source": [
    "t = (2,4,6,8,10)\n",
    "result = reduce(lambda a,b: a*b,t)\n",
    "print(result)"
   ]
  },
  {
   "cell_type": "markdown",
   "id": "6e10dabd",
   "metadata": {},
   "source": [
    "## 3.Set Operations:"
   ]
  },
  {
   "cell_type": "code",
   "execution_count": 11,
   "id": "a030ee2a",
   "metadata": {},
   "outputs": [
    {
     "name": "stdout",
     "output_type": "stream",
     "text": [
      "{1, 3, 5, 7, 9}\n",
      "{7}\n"
     ]
    }
   ],
   "source": [
    "s1={3,7,9}\n",
    "s2={1,5,7}\n",
    "print(s1.union(s2))#union\n",
    "print(s1 & s2)#intersection"
   ]
  },
  {
   "cell_type": "markdown",
   "id": "349cecc9",
   "metadata": {},
   "source": [
    "## 4.Dictionary Operations:"
   ]
  },
  {
   "cell_type": "code",
   "execution_count": 10,
   "id": "9f5cf3fa",
   "metadata": {},
   "outputs": [
    {
     "name": "stdout",
     "output_type": "stream",
     "text": [
      "{'S': 53, 'U': 55, 'C': 43, 'H': 48, 'I': 49}\n"
     ]
    }
   ],
   "source": [
    "d = {'S': 53, 'U': 55, 'C': 43,'H': 48, 'I': 49}\n",
    "print(d)"
   ]
  },
  {
   "cell_type": "markdown",
   "id": "0c2ae420",
   "metadata": {},
   "source": [
    "## 5.Functional Programming:"
   ]
  },
  {
   "cell_type": "code",
   "execution_count": 9,
   "id": "a2f6422d",
   "metadata": {},
   "outputs": [
    {
     "name": "stdout",
     "output_type": "stream",
     "text": [
      "[1, 4, 9, 16, 25, 36, 49, 64, 81, 100]\n"
     ]
    }
   ],
   "source": [
    "def square(x):\n",
    "    return x*x\n",
    "l = [1,2,3,4,5,6,7,8,9,10]\n",
    "result = map(square, l)\n",
    "print(list(result))"
   ]
  }
 ],
 "metadata": {
  "kernelspec": {
   "display_name": "Python 3 (ipykernel)",
   "language": "python",
   "name": "python3"
  },
  "language_info": {
   "codemirror_mode": {
    "name": "ipython",
    "version": 3
   },
   "file_extension": ".py",
   "mimetype": "text/x-python",
   "name": "python",
   "nbconvert_exporter": "python",
   "pygments_lexer": "ipython3",
   "version": "3.11.4"
  }
 },
 "nbformat": 4,
 "nbformat_minor": 5
}
